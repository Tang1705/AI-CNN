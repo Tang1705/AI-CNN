{
 "cells": [
  {
   "cell_type": "code",
   "execution_count": null,
   "metadata": {},
   "outputs": [
    {
     "name": "stdout",
     "output_type": "stream",
     "text": [
      "data65\r\n"
     ]
    }
   ],
   "source": [
    "# 查看当前挂载的数据集目录, 该目录下的变更重启环境后会自动还原\n",
    "# View dataset directory. This directory will be recovered automatically after resetting environment. \n",
    "!ls /home/aistudio/data"
   ]
  },
  {
   "cell_type": "code",
   "execution_count": null,
   "metadata": {},
   "outputs": [
    {
     "name": "stdout",
     "output_type": "stream",
     "text": [
      "hand.inference.model\r\n"
     ]
    }
   ],
   "source": [
    "# 查看工作区文件, 该目录下的变更将会持久保存. 请及时清理不必要的文件, 避免加载过慢.\n",
    "# View personal work directory. All changes under this directory will be kept even after reset. Please clean unnecessary files in time to speed up environment loading.\n",
    "!ls /home/aistudio/work"
   ]
  },
  {
   "cell_type": "code",
   "execution_count": null,
   "metadata": {},
   "outputs": [
    {
     "name": "stdout",
     "output_type": "stream",
     "text": [
      "mkdir: cannot create directory ‘/home/aistudio/external-libraries’: File exists\n",
      "Looking in indexes: https://pypi.mirrors.ustc.edu.cn/simple/\n",
      "Collecting beautifulsoup4\n",
      "\u001b[?25l  Downloading https://mirrors.tuna.tsinghua.edu.cn/pypi/web/packages/66/25/ff030e2437265616a1e9b25ccc864e0371a0bc3adb7c5a404fd661c6f4f6/beautifulsoup4-4.9.1-py3-none-any.whl (115kB)\n",
      "\u001b[K     |████████████████████████████████| 122kB 8.4MB/s eta 0:00:01\n",
      "\u001b[?25hCollecting soupsieve>1.2 (from beautifulsoup4)\n",
      "  Downloading https://mirrors.tuna.tsinghua.edu.cn/pypi/web/packages/6f/8f/457f4a5390eeae1cc3aeab89deb7724c965be841ffca6cfca9197482e470/soupsieve-2.0.1-py3-none-any.whl\n",
      "Installing collected packages: soupsieve, beautifulsoup4\n",
      "Successfully installed beautifulsoup4-4.9.1 soupsieve-2.0.1\n",
      "\u001b[33mWARNING: Target directory /home/aistudio/external-libraries/beautifulsoup4-4.9.1.dist-info already exists. Specify --upgrade to force replacement.\u001b[0m\n",
      "\u001b[33mWARNING: Target directory /home/aistudio/external-libraries/soupsieve-2.0.1.dist-info already exists. Specify --upgrade to force replacement.\u001b[0m\n",
      "\u001b[33mWARNING: Target directory /home/aistudio/external-libraries/soupsieve already exists. Specify --upgrade to force replacement.\u001b[0m\n",
      "\u001b[33mWARNING: Target directory /home/aistudio/external-libraries/bs4 already exists. Specify --upgrade to force replacement.\u001b[0m\n"
     ]
    }
   ],
   "source": [
    "# 如果需要进行持久化安装, 需要使用持久化路径, 如下方代码示例:\n",
    "# If a persistence installation is required, you need to use the persistence path as the following:\n",
    "!mkdir /home/aistudio/external-libraries\n",
    "!pip install beautifulsoup4 -t /home/aistudio/external-libraries"
   ]
  },
  {
   "cell_type": "code",
   "execution_count": null,
   "metadata": {},
   "outputs": [],
   "source": [
    "# 同时添加如下代码, 这样每次环境(kernel)启动的时候只要运行下方代码即可:\n",
    "# Also add the following code, so that every time the environment (kernel) starts, just run the following code:\n",
    "import sys\n",
    "sys.path.append('/home/aistudio/external-libraries')"
   ]
  },
  {
   "cell_type": "markdown",
   "metadata": {},
   "source": [
    "请点击[此处](https://ai.baidu.com/docs#/AIStudio_Project_Notebook/a38e5576)查看本环境基本用法.  <br>\n",
    "Please click [here ](https://ai.baidu.com/docs#/AIStudio_Project_Notebook/a38e5576) for more detailed instructions. "
   ]
  },
  {
   "cell_type": "markdown",
   "metadata": {},
   "source": [
    "<h1 align=\"center\">基于 PaddlePaddle框架 和 MNIST 数据集的手写数字识别</h1>"
   ]
  },
  {
   "cell_type": "code",
   "execution_count": null,
   "metadata": {},
   "outputs": [
    {
     "name": "stderr",
     "output_type": "stream",
     "text": [
      "2020-06-05 10:27:03,330-INFO: font search path ['/opt/conda/envs/python35-paddle120-env/lib/python3.7/site-packages/matplotlib/mpl-data/fonts/ttf', '/opt/conda/envs/python35-paddle120-env/lib/python3.7/site-packages/matplotlib/mpl-data/fonts/afm', '/opt/conda/envs/python35-paddle120-env/lib/python3.7/site-packages/matplotlib/mpl-data/fonts/pdfcorefonts']\n",
      "2020-06-05 10:27:03,695-INFO: generated new fontManager\n"
     ]
    }
   ],
   "source": [
    "import os\n",
    "import math\n",
    "import numpy as np\n",
    "from PIL import Image\n",
    "import paddle\n",
    "import paddle.fluid as fluid\n",
    "import matplotlib.pyplot as plt"
   ]
  },
  {
   "cell_type": "markdown",
   "metadata": {},
   "source": [
    "## 1 数据预处理"
   ]
  },
  {
   "cell_type": "markdown",
   "metadata": {},
   "source": [
    "MNIST数据集包含70000张手写数字的灰度图片（黑底白字，如下图所示），其中每张图片包含 $28\\times 28$ 个像素点。每张图片都有对应的标签，即图片对应的数字。数据集被分成两部分：包含60000张图片的训练数据集和包含10000张的测试数据集。\n",
    "\n",
    "<div class=\"imgs\" align=\"center\" ><img src=\"https://ai-studio-static-online.cdn.bcebos.com/4db11e0e26444daabc62ee8a974f568d668329cd76fb421891db0aa3ed3aa93b\" alt=\"01\" width=\"50%\" height=\"50%\"/></div>\n",
    "<div style=\"margin:1em\"></div>\n",
    "\n",
    "为了使模型能对黑底白字和白底黑字的手写数字的识别均有较高的准确率，就需要将黑底白字的图片进行转换。\n",
    "\n",
    "PaddlePaddle 接口对提供的数据进行了归一化、居中等处理，即数据集中的灰度图片以 $28\\times 28$  的矩阵数据类型存储，矩阵元素的取值范围在 $[-1,1]$之间。\n",
    "根据上述描述，可以通过对原始数据集内每一个元素取相反数的操作，获得对应的白底黑字图片（如下图所示）。具体流程可描述为分别定义训练数据集和测试数据集的数据处理函数（或接口），将数据集（包括标签）一次读入，并对数据集中的项逐一取反，将生成的矩阵与原始矩阵进行拼接，获得了黑底白字和白底黑字的混合数据集\n",
    "\n",
    "<div class=\"imgs\" align=\"center\" ><img src=\"https://ai-studio-static-online.cdn.bcebos.com/32641415c3b44dc8b1b14555dd769f0e9b9a9a0352a8497f9bd0d4f66c1f3465\" alt=\"02\" width=\"50%\" height=\"50%\"/></div>"
   ]
  },
  {
   "cell_type": "code",
   "execution_count": null,
   "metadata": {},
   "outputs": [],
   "source": [
    "BUFF_SIZE = 512\n",
    "BATCH_SIZE = 128"
   ]
  },
  {
   "cell_type": "code",
   "execution_count": null,
   "metadata": {},
   "outputs": [],
   "source": [
    "def train_r():\n",
    "    def reader():\n",
    "        train_reader = paddle.batch(paddle.reader.shuffle(paddle.dataset.mnist.train(),buf_size=60000),batch_size=60000)\n",
    "        train_data = next(train_reader())\n",
    "        train_data=np.array(train_data)\n",
    "        train_image=train_data[:,0]\n",
    "        train_label=train_data[:,1]\n",
    "        \n",
    "        inverse_train_image=- train_image\n",
    "        train_image=np.hstack((train_image, inverse_train_image))\n",
    "        train_label=np.hstack((train_label, train_label))\n",
    "        \n",
    "        for i in range(120000):\n",
    "            yield train_image[i], train_label[i]\n",
    "    return reader\n",
    "\n",
    "def test_r():\n",
    "    def reader():\n",
    "        test_reader = paddle.batch(paddle.reader.shuffle(paddle.dataset.mnist.test(),buf_size=10000),batch_size=10000)\n",
    "        test_data = next(test_reader())\n",
    "        test_data=np.array(test_data)\n",
    "        test_image=test_data[:,0]\n",
    "        test_label=test_data[:,1]\n",
    "        \n",
    "        inverse_test_image=- test_image\n",
    "        test_image=np.hstack((test_image, inverse_test_image))\n",
    "        test_label=np.hstack((test_label, test_label))\n",
    "\n",
    "        for i in range(20000):\n",
    "            yield test_image[i], test_label[i]\n",
    "    return reader"
   ]
  },
  {
   "cell_type": "markdown",
   "metadata": {},
   "source": [
    "## 2 数据加载"
   ]
  },
  {
   "cell_type": "code",
   "execution_count": null,
   "metadata": {},
   "outputs": [],
   "source": [
    "train_reader = paddle.batch(paddle.reader.shuffle(reader=train_r(), buf_size=BUFF_SIZE),batch_size=BATCH_SIZE)\n",
    "test_reader = paddle.batch(paddle.reader.shuffle(reader=test_r(), buf_size=BUFF_SIZE), batch_size=BATCH_SIZE)"
   ]
  },
  {
   "cell_type": "markdown",
   "metadata": {},
   "source": [
    "## 3 网络配置"
   ]
  },
  {
   "cell_type": "markdown",
   "metadata": {},
   "source": [
    "### 3.1 多层感知机(Multilayer Perceptron, MLP)"
   ]
  },
  {
   "cell_type": "markdown",
   "metadata": {},
   "source": [
    "<div class=\"imgs\" align=\"center\" ><img src=\"https://ai-studio-static-online.cdn.bcebos.com/8ed463e6dd024d569eb1409cd8e593d2c3e8ca948007475ba69b407a33b4acbf\" alt=\"01\" width=\"50%\" height=\"50%\"/></div>"
   ]
  },
  {
   "cell_type": "code",
   "execution_count": null,
   "metadata": {},
   "outputs": [],
   "source": [
    "# 定义多层感知器\n",
    "def multilayer_perceptron(input):\n",
    "    #请在此完成感知器模型定义\n",
    "    hadden1 = fluid.layers.fc(input=input,size=100,act='relu')\n",
    "    hadden2 = fluid.layers.fc(input=hadden1,size=100,act='relu')\n",
    "    # hadden3 = fluid.layers.fc(input=hadden2,size=100,act='relu')\n",
    "    # hadden4 = fluid.layers.fc(input=hadden3,size=100,act='relu')\n",
    "    # hadden5 = fluid.layers.fc(input=hadden4,size=100,act='relu')\n",
    "    # hadden6 = fluid.layers.fc(input=hadden5,size=100,act='relu')\n",
    "    # hadden7 = fluid.layers.fc(input=hadden6,size=100,act='relu')\n",
    "    prediction = fluid.layers.fc(input=hadden2,size=10,act='softmax')\n",
    "    \n",
    "    return prediction"
   ]
  },
  {
   "cell_type": "markdown",
   "metadata": {},
   "source": [
    "### 3.2 Lente-5"
   ]
  },
  {
   "cell_type": "markdown",
   "metadata": {},
   "source": [
    "<div class=\"imgs\" align=\"center\" ><img src=\"https://ai-studio-static-online.cdn.bcebos.com/a67573d213a747c5876671a7dcfc88635a9a475b9ffa45919d3c3ee9d24ff6eb\" alt=\"01\" width=\"100%\" height=\"100%\"/></div>"
   ]
  },
  {
   "cell_type": "code",
   "execution_count": null,
   "metadata": {},
   "outputs": [],
   "source": [
    "def conv_pool(input, num_filters, filter_size, pool_size, pool_stride, act=\"relu\"):\n",
    "    \"\"\"\n",
    "    定义卷积池化层：\n",
    "        含有一个卷积层和一个池化层\n",
    "    Args：\n",
    "        input —— 网络输入\n",
    "        num_filters —— 卷积核的个数\n",
    "        filter_size —— 卷积核的大小\n",
    "        pool_size —— 池化核的大小\n",
    "        pool_stride —— 池化的步长\n",
    "        act —— 卷积层的激活函数\n",
    "\n",
    "    Return:\n",
    "        out -- 经过卷积池化后的特征图\n",
    "    \"\"\"\n",
    "    conv_out = fluid.layers.conv2d(\n",
    "        input=input,\n",
    "        num_filters=num_filters,\n",
    "        filter_size=filter_size,\n",
    "        act=act)\n",
    "    out = fluid.layers.pool2d(\n",
    "        input=conv_out,\n",
    "        pool_size=pool_size,\n",
    "        pool_stride=pool_stride)\n",
    "    return out"
   ]
  },
  {
   "cell_type": "code",
   "execution_count": null,
   "metadata": {},
   "outputs": [],
   "source": [
    "# 定义卷积神经网络 CNN\n",
    "def convolutional_neural_network(img):\n",
    "    \"\"\"\n",
    "    定义卷积神经网络分类器：\n",
    "        输入的二维图像，经过两个卷积-池化层，使用以softmax为激活函数的全连接层作为输出层\n",
    "\n",
    "    Return:\n",
    "        predict -- 分类的结果\n",
    "    \"\"\"\n",
    "    # 第一个卷积-池化层\n",
    "    # 使用20个5*5的滤波器，池化大小为2，池化步长为2，激活函数为Relu\n",
    "    conv_pool_1 = conv_pool(\n",
    "        input=img,\n",
    "        filter_size=5,\n",
    "        num_filters=20,\n",
    "        pool_size=2,\n",
    "        pool_stride=2,\n",
    "        act=\"relu\")\n",
    "    conv_pool_1 = fluid.layers.batch_norm(conv_pool_1)\n",
    "#     drop = fluid.layers.dropout(x=conv_pool_1, dropout_prob=0.5)\n",
    "    # 第二个卷积-池化层\n",
    "    # 使用50个5*5的滤波器，池化大小为2，池化步长为2，激活函数为Relu\n",
    "    conv_pool_2 = conv_pool(\n",
    "        input=conv_pool_1,\n",
    "        filter_size=5,\n",
    "        num_filters=50,\n",
    "        pool_size=2,\n",
    "        pool_stride=2,\n",
    "        act=\"relu\")\n",
    "    conv_pool_2 = fluid.layers.batch_norm(conv_pool_2)\n",
    "    # 以softmax为激活函数的全连接输出层，输出层的大小必须为数字的个数10\n",
    "    prediction = fluid.layers.fc(input=conv_pool_2, size=10, act='softmax')\n",
    "    return prediction"
   ]
  },
  {
   "cell_type": "markdown",
   "metadata": {},
   "source": [
    "### 3.3 VGG"
   ]
  },
  {
   "cell_type": "markdown",
   "metadata": {},
   "source": [
    "<div class=\"imgs\" align=\"center\" ><img src=\"https://ai-studio-static-online.cdn.bcebos.com/4ff7247922d048fca1fba2749b12c6cad394978924234cca88dc976b4d9f89b3\" alt=\"01\" width=\"100%\" height=\"100%\"/></div>"
   ]
  },
  {
   "cell_type": "code",
   "execution_count": null,
   "metadata": {},
   "outputs": [],
   "source": [
    "# 定义 VGG\n",
    "def vgg_bn_drop(image, type_size):  \n",
    "    def conv_block(ipt, num_filter, groups, dropouts):\n",
    "        return fluid.nets.img_conv_group(\n",
    "            input=ipt, # 具有[N，C，H，W]格式的输入图像\n",
    "            pool_size=2,\n",
    "            pool_stride=2,\n",
    "            conv_num_filter=[num_filter] * groups, # 过滤器个数\n",
    "            conv_filter_size=3, # 过滤器大小\n",
    "            conv_act='relu',\n",
    "            conv_with_batchnorm=True, # 表示在 Conv2d Layer 之后是否使用 BatchNorm\n",
    "            conv_batchnorm_drop_rate=dropouts,# 表示 BatchNorm 之后的 Dropout Layer 的丢弃概率\n",
    "            pool_type='max') # 最大池化\n",
    "\n",
    "    conv1 = conv_block(image, 64, 2, [0.0, 0])\n",
    "    conv2 = conv_block(conv1, 128, 2, [0.0, 0])\n",
    "    conv3 = conv_block(conv2, 256, 3, [0.0, 0.0, 0])\n",
    "    conv4 = conv_block(conv3, 512, 3, [0.0, 0.0, 0])\n",
    "    conv5 = conv_block(conv4, 512, 3, [0.0, 0.0, 0])\n",
    "\n",
    "    drop = fluid.layers.dropout(x=conv5, dropout_prob=0.5)\n",
    "    fc1 = fluid.layers.fc(input=drop, size=512, act=None)\n",
    "    \n",
    "    bn = fluid.layers.batch_norm(input=fc1, act='relu')\n",
    "    drop2 = fluid.layers.dropout(x=bn, dropout_prob=0.0)\n",
    "    fc2 = fluid.layers.fc(input=drop2, size=512, act=None)\n",
    "    predict = fluid.layers.fc(input=fc2, size=type_size, act='softmax')\n",
    "    return predict"
   ]
  },
  {
   "cell_type": "markdown",
   "metadata": {},
   "source": [
    "### 3.4 ResNet"
   ]
  },
  {
   "cell_type": "markdown",
   "metadata": {},
   "source": [
    "<div class=\"imgs\" align=\"center\" ><img src=\"https://ai-studio-static-online.cdn.bcebos.com/041771adbe144098a35186b21cb14be4dc9fdcb7557e40f5a9a918d7745e3295\" alt=\"01\" width=\"100%\" height=\"100%\"/></div>"
   ]
  },
  {
   "cell_type": "code",
   "execution_count": null,
   "metadata": {},
   "outputs": [],
   "source": [
    "class DistResNet():\n",
    "    def __init__(self, is_train=True):\n",
    "\n",
    "        self.is_train = is_train\n",
    "        self.weight_decay = 1e-4\n",
    "\n",
    "    def net(self, input, class_dim=10):\n",
    "    \n",
    "        depth = [3, 3, 3]\n",
    "        num_filters = [16, 32, 32]\n",
    "\n",
    "        conv = self.conv_bn_layer(\n",
    "            input=input, num_filters=16, filter_size=3, act='relu')\n",
    "        conv = fluid.layers.pool2d(\n",
    "            input=conv,\n",
    "            pool_size=3,\n",
    "            pool_stride=2,\n",
    "            pool_padding=1,\n",
    "            pool_type='max')\n",
    "\n",
    "        for block in range(len(depth)):\n",
    "            for i in range(depth[block]):\n",
    "                conv = self.bottleneck_block(\n",
    "                    input=conv,\n",
    "                    num_filters=num_filters[block],\n",
    "                    stride=2 if i == 0 and block != 0 else 1)\n",
    "                conv = fluid.layers.batch_norm(input=conv, act='relu')\n",
    "        print(conv.shape)\n",
    "        pool = fluid.layers.pool2d(\n",
    "            input=conv, pool_size=4, pool_type='avg', global_pooling=True)\n",
    "        stdv = 1.0 / math.sqrt(pool.shape[1] * 1.0)\n",
    "        out = fluid.layers.fc(input=pool,\n",
    "                              size=class_dim,\n",
    "                              act=\"softmax\",\n",
    "                              param_attr=fluid.param_attr.ParamAttr(\n",
    "                                  initializer=fluid.initializer.Uniform(-stdv,\n",
    "                                                                        stdv),\n",
    "                                  regularizer=fluid.regularizer.L2Decay(self.weight_decay)),\n",
    "                              bias_attr=fluid.ParamAttr(\n",
    "                                  regularizer=fluid.regularizer.L2Decay(self.weight_decay))\n",
    "                              )\n",
    "        return out\n",
    "\n",
    "    def conv_bn_layer(self,\n",
    "                      input,\n",
    "                      num_filters,\n",
    "                      filter_size,\n",
    "                      stride=1,\n",
    "                      groups=1,\n",
    "                      act=None,\n",
    "                      bn_init_value=1.0):\n",
    "        conv = fluid.layers.conv2d(\n",
    "            input=input,\n",
    "            num_filters=num_filters,\n",
    "            filter_size=filter_size,\n",
    "            stride=stride,\n",
    "            padding=(filter_size - 1) // 2,\n",
    "            groups=groups,\n",
    "            act=None,\n",
    "            bias_attr=False,\n",
    "            param_attr=fluid.ParamAttr(regularizer=fluid.regularizer.L2Decay(self.weight_decay)))\n",
    "        return fluid.layers.batch_norm(\n",
    "                input=conv, act=act, is_test=not self.is_train,\n",
    "                param_attr=fluid.ParamAttr(\n",
    "                    initializer=fluid.initializer.Constant(bn_init_value),\n",
    "                    regularizer=None))\n",
    "\n",
    "    def shortcut(self, input, ch_out, stride):\n",
    "        ch_in = input.shape[1]\n",
    "        if ch_in != ch_out or stride != 1:\n",
    "            return self.conv_bn_layer(input, ch_out, 1, stride)\n",
    "        else:\n",
    "            return input\n",
    "\n",
    "    def bottleneck_block(self, input, num_filters, stride):\n",
    "        conv0 = self.conv_bn_layer(\n",
    "            input=input, num_filters=num_filters, filter_size=1, act='relu')\n",
    "        conv1 = self.conv_bn_layer(\n",
    "            input=conv0,\n",
    "            num_filters=num_filters,\n",
    "            filter_size=3,\n",
    "            stride=stride,\n",
    "            act='relu')\n",
    "        conv2 = self.conv_bn_layer(\n",
    "            input=conv1, num_filters=num_filters * 4, filter_size=1, act=None, bn_init_value=0.0)\n",
    "\n",
    "        short = self.shortcut(input, num_filters * 4, stride)\n",
    "\n",
    "        return fluid.layers.elementwise_add(x=short, y=conv2, act='relu')"
   ]
  },
  {
   "cell_type": "code",
   "execution_count": null,
   "metadata": {},
   "outputs": [],
   "source": [
    "# 定义输入输出层\n",
    "image = fluid.layers.data(name='image', shape=[1, 28, 28], dtype='float32')#单通道，28*28像素值\n",
    "label = fluid.layers.data(name='label', shape=[1], dtype='int64')          #图片标签"
   ]
  },
  {
   "cell_type": "code",
   "execution_count": null,
   "metadata": {},
   "outputs": [],
   "source": [
    "# 获取分类器\n",
    "# predict = multilayer_perceptron(image)\n",
    "predict = convolutional_neural_network(image)\n",
    "# predict = vgg_bn_drop(image,10)\n",
    "# model = DistResNet()\n",
    "# predict = model.net(input=image, class_dim=10)\n",
    "# 完成定义网络"
   ]
  },
  {
   "cell_type": "code",
   "execution_count": null,
   "metadata": {},
   "outputs": [],
   "source": [
    "# 获取损失函数和准确率函数 \n",
    "cost = fluid.layers.cross_entropy(input=predict, label=label)  #使用交叉熵损失函数,描述真实样本标签和预测概率之间的差值 交叉熵\n",
    "avg_cost = fluid.layers.mean(cost)\n",
    "acc = fluid.layers.accuracy(input=predict, label=label)"
   ]
  },
  {
   "cell_type": "markdown",
   "metadata": {},
   "source": [
    "### 各种优化器的比较"
   ]
  },
  {
   "cell_type": "markdown",
   "metadata": {},
   "source": [
    "<div class=\"imgs\" align=\"center\" ><img src=\"https://ai-studio-static-online.cdn.bcebos.com/9b4305ae0ac1499385e1986399fd31f8d1c3219c08b14dd9bbf3e062e4b79227\" alt=\"01\" width=\"50%\" height=\"50%\"/></div>"
   ]
  },
  {
   "cell_type": "code",
   "execution_count": 45,
   "metadata": {},
   "outputs": [],
   "source": [
    "# 定义优化方法\n",
    "optimizer = fluid.optimizer.AdamOptimizer(learning_rate=0.001)   #使用Adam算法进行优化\n",
    "# optimizer = fluid.optimizer.SGDOptimizer(learning_rate=0.001)   # SGDOptimizer算法\n",
    "# optimizer = fluid.optimizer.Momentum(learning_rate = 0.001, momentum = 0.1) # Momentum算法\n",
    "# optimizer = fluid.optimizer.Adamax(learning_rate = 0.001) # Adamax算法\n",
    "opts = optimizer.minimize(avg_cost)"
   ]
  },
  {
   "cell_type": "markdown",
   "metadata": {},
   "source": [
    "## 4 模型训练 & 模型评估"
   ]
  },
  {
   "cell_type": "code",
   "execution_count": 46,
   "metadata": {},
   "outputs": [
    {
     "data": {
      "text/plain": [
       "[]"
      ]
     },
     "execution_count": 46,
     "metadata": {},
     "output_type": "execute_result"
    }
   ],
   "source": [
    "# 定义一个使用GPU的解析器\n",
    "# place = fluid.CPUPlace()\n",
    "use_gpu = True\n",
    "place = fluid.CUDAPlace(0) if use_gpu else fluid.CPUPlace()\n",
    "exe = fluid.Executor(place)\n",
    "exe.run(fluid.default_startup_program())"
   ]
  },
  {
   "cell_type": "code",
   "execution_count": 47,
   "metadata": {},
   "outputs": [],
   "source": [
    "feeder = fluid.DataFeeder(place=place, feed_list=[image, label])"
   ]
  },
  {
   "cell_type": "code",
   "execution_count": 48,
   "metadata": {},
   "outputs": [],
   "source": [
    "all_train_iter=0\n",
    "all_train_iters=[]\n",
    "all_train_costs=[]\n",
    "all_train_accs=[]"
   ]
  },
  {
   "cell_type": "code",
   "execution_count": 49,
   "metadata": {},
   "outputs": [],
   "source": [
    "def draw_train_process(title,iters,costs,accs,label_cost,lable_acc):\n",
    "    plt.title(title, fontsize=24)\n",
    "    plt.xlabel(\"iter\", fontsize=20)\n",
    "    plt.ylabel(\"cost/acc\", fontsize=20)\n",
    "    plt.plot(iters, costs,color='red',label=label_cost)\n",
    "    plt.plot(iters, accs,color='green',label=lable_acc)\n",
    "    plt.legend()\n",
    "    plt.grid()\n",
    "    plt.show()"
   ]
  },
  {
   "cell_type": "code",
   "execution_count": 50,
   "metadata": {},
   "outputs": [
    {
     "name": "stdout",
     "output_type": "stream",
     "text": [
      "Pass:0, Batch:0, Cost:2.86079, Accuracy:0.15625\n",
      "Pass:0, Batch:100, Cost:0.13583, Accuracy:0.97656\n",
      "Pass:0, Batch:200, Cost:0.12095, Accuracy:0.97656\n",
      "Pass:0, Batch:300, Cost:0.02124, Accuracy:1.00000\n",
      "Pass:0, Batch:400, Cost:0.05260, Accuracy:0.99219\n",
      "Pass:0, Batch:500, Cost:0.05597, Accuracy:0.98438\n",
      "Pass:0, Batch:600, Cost:0.09031, Accuracy:0.99219\n",
      "Pass:0, Batch:700, Cost:0.08430, Accuracy:0.97656\n",
      "Pass:0, Batch:800, Cost:0.08840, Accuracy:0.96875\n",
      "Pass:0, Batch:900, Cost:0.11934, Accuracy:0.97656\n",
      "Test:0, Cost:0.07099, Accuracy:0.97751\n",
      "save models to work/hand.inference.model\n",
      "Pass:1, Batch:0, Cost:0.13411, Accuracy:0.96094\n",
      "Pass:1, Batch:100, Cost:0.07477, Accuracy:0.99219\n",
      "Pass:1, Batch:200, Cost:0.01871, Accuracy:1.00000\n",
      "Pass:1, Batch:300, Cost:0.01754, Accuracy:0.99219\n",
      "Pass:1, Batch:400, Cost:0.14238, Accuracy:0.96875\n",
      "Pass:1, Batch:500, Cost:0.02159, Accuracy:1.00000\n",
      "Pass:1, Batch:600, Cost:0.12204, Accuracy:0.96875\n",
      "Pass:1, Batch:700, Cost:0.11633, Accuracy:0.98438\n",
      "Pass:1, Batch:800, Cost:0.05665, Accuracy:0.98438\n",
      "Pass:1, Batch:900, Cost:0.05528, Accuracy:0.98438\n",
      "Test:1, Cost:0.03134, Accuracy:0.98925\n",
      "save models to work/hand.inference.model\n",
      "Pass:2, Batch:0, Cost:0.04693, Accuracy:0.99219\n",
      "Pass:2, Batch:100, Cost:0.03138, Accuracy:0.99219\n",
      "Pass:2, Batch:200, Cost:0.02150, Accuracy:0.99219\n",
      "Pass:2, Batch:300, Cost:0.06315, Accuracy:0.99219\n",
      "Pass:2, Batch:400, Cost:0.02764, Accuracy:0.98438\n",
      "Pass:2, Batch:500, Cost:0.02170, Accuracy:0.98438\n",
      "Pass:2, Batch:600, Cost:0.00455, Accuracy:1.00000\n",
      "Pass:2, Batch:700, Cost:0.00769, Accuracy:1.00000\n",
      "Pass:2, Batch:800, Cost:0.01527, Accuracy:0.99219\n",
      "Pass:2, Batch:900, Cost:0.09887, Accuracy:0.97656\n",
      "Test:2, Cost:0.02097, Accuracy:0.99353\n",
      "save models to work/hand.inference.model\n",
      "Pass:3, Batch:0, Cost:0.04319, Accuracy:0.98438\n",
      "Pass:3, Batch:100, Cost:0.06267, Accuracy:0.97656\n",
      "Pass:3, Batch:200, Cost:0.01246, Accuracy:0.99219\n",
      "Pass:3, Batch:300, Cost:0.01091, Accuracy:1.00000\n",
      "Pass:3, Batch:400, Cost:0.01083, Accuracy:1.00000\n",
      "Pass:3, Batch:500, Cost:0.09598, Accuracy:0.97656\n",
      "Pass:3, Batch:600, Cost:0.00346, Accuracy:1.00000\n",
      "Pass:3, Batch:700, Cost:0.01489, Accuracy:0.99219\n",
      "Pass:3, Batch:800, Cost:0.02830, Accuracy:0.99219\n",
      "Pass:3, Batch:900, Cost:0.02397, Accuracy:0.99219\n",
      "Test:3, Cost:0.01710, Accuracy:0.99403\n",
      "save models to work/hand.inference.model\n",
      "Pass:4, Batch:0, Cost:0.04100, Accuracy:0.99219\n",
      "Pass:4, Batch:100, Cost:0.09927, Accuracy:0.98438\n",
      "Pass:4, Batch:200, Cost:0.03440, Accuracy:0.98438\n",
      "Pass:4, Batch:300, Cost:0.06902, Accuracy:0.97656\n",
      "Pass:4, Batch:400, Cost:0.04785, Accuracy:0.96875\n",
      "Pass:4, Batch:500, Cost:0.00445, Accuracy:1.00000\n",
      "Pass:4, Batch:600, Cost:0.00334, Accuracy:1.00000\n",
      "Pass:4, Batch:700, Cost:0.01836, Accuracy:0.99219\n",
      "Pass:4, Batch:800, Cost:0.01837, Accuracy:0.99219\n",
      "Pass:4, Batch:900, Cost:0.01105, Accuracy:0.99219\n",
      "Test:4, Cost:0.01367, Accuracy:0.99502\n",
      "save models to work/hand.inference.model\n",
      "Pass:5, Batch:0, Cost:0.07599, Accuracy:0.96094\n",
      "Pass:5, Batch:100, Cost:0.00083, Accuracy:1.00000\n",
      "Pass:5, Batch:200, Cost:0.02583, Accuracy:0.99219\n",
      "Pass:5, Batch:300, Cost:0.01464, Accuracy:0.98438\n",
      "Pass:5, Batch:400, Cost:0.00335, Accuracy:1.00000\n",
      "Pass:5, Batch:500, Cost:0.00439, Accuracy:1.00000\n",
      "Pass:5, Batch:600, Cost:0.00570, Accuracy:0.99219\n",
      "Pass:5, Batch:700, Cost:0.01089, Accuracy:0.99219\n",
      "Pass:5, Batch:800, Cost:0.00223, Accuracy:1.00000\n",
      "Pass:5, Batch:900, Cost:0.00155, Accuracy:1.00000\n",
      "Test:5, Cost:0.00998, Accuracy:0.99682\n",
      "save models to work/hand.inference.model\n",
      "Pass:6, Batch:0, Cost:0.01187, Accuracy:0.99219\n",
      "Pass:6, Batch:100, Cost:0.03560, Accuracy:0.98438\n",
      "Pass:6, Batch:200, Cost:0.00888, Accuracy:1.00000\n",
      "Pass:6, Batch:300, Cost:0.01627, Accuracy:0.99219\n",
      "Pass:6, Batch:400, Cost:0.00932, Accuracy:0.99219\n",
      "Pass:6, Batch:500, Cost:0.00628, Accuracy:1.00000\n",
      "Pass:6, Batch:600, Cost:0.00839, Accuracy:0.99219\n",
      "Pass:6, Batch:700, Cost:0.01018, Accuracy:0.99219\n",
      "Pass:6, Batch:800, Cost:0.01026, Accuracy:0.99219\n",
      "Pass:6, Batch:900, Cost:0.00266, Accuracy:1.00000\n",
      "Test:6, Cost:0.00908, Accuracy:0.99637\n",
      "save models to work/hand.inference.model\n",
      "Pass:7, Batch:0, Cost:0.00308, Accuracy:1.00000\n",
      "Pass:7, Batch:100, Cost:0.00410, Accuracy:1.00000\n",
      "Pass:7, Batch:200, Cost:0.01940, Accuracy:0.99219\n",
      "Pass:7, Batch:300, Cost:0.00313, Accuracy:1.00000\n",
      "Pass:7, Batch:400, Cost:0.00591, Accuracy:1.00000\n",
      "Pass:7, Batch:500, Cost:0.01379, Accuracy:0.99219\n",
      "Pass:7, Batch:600, Cost:0.00226, Accuracy:1.00000\n",
      "Pass:7, Batch:700, Cost:0.00077, Accuracy:1.00000\n",
      "Pass:7, Batch:800, Cost:0.01004, Accuracy:0.99219\n",
      "Pass:7, Batch:900, Cost:0.00066, Accuracy:1.00000\n",
      "Test:7, Cost:0.00831, Accuracy:0.99657\n",
      "save models to work/hand.inference.model\n",
      "Pass:8, Batch:100, Cost:0.03333, Accuracy:0.99219\n",
      "Pass:8, Batch:200, Cost:0.00008, Accuracy:1.00000\n",
      "Pass:8, Batch:300, Cost:0.00253, Accuracy:1.00000\n",
      "Pass:8, Batch:400, Cost:0.00824, Accuracy:0.99219\n",
      "Pass:8, Batch:500, Cost:0.02072, Accuracy:0.99219\n",
      "Pass:8, Batch:600, Cost:0.00383, Accuracy:1.00000\n",
      "Pass:8, Batch:700, Cost:0.00225, Accuracy:1.00000\n",
      "Pass:8, Batch:800, Cost:0.00075, Accuracy:1.00000\n",
      "Pass:8, Batch:900, Cost:0.00770, Accuracy:1.00000\n",
      "Test:8, Cost:0.00632, Accuracy:0.99791\n",
      "save models to work/hand.inference.model\n",
      "Pass:9, Batch:0, Cost:0.00138, Accuracy:1.00000\n",
      "Pass:9, Batch:100, Cost:0.00289, Accuracy:1.00000\n",
      "Pass:9, Batch:200, Cost:0.00115, Accuracy:1.00000\n",
      "Pass:9, Batch:300, Cost:0.03237, Accuracy:0.98438\n",
      "Pass:9, Batch:400, Cost:0.02685, Accuracy:0.98438\n",
      "Pass:9, Batch:500, Cost:0.00040, Accuracy:1.00000\n",
      "Pass:9, Batch:600, Cost:0.01581, Accuracy:0.99219\n",
      "Pass:9, Batch:700, Cost:0.00242, Accuracy:1.00000\n",
      "Pass:9, Batch:800, Cost:0.00374, Accuracy:1.00000\n",
      "Pass:9, Batch:900, Cost:0.00004, Accuracy:1.00000\n",
      "Test:9, Cost:0.00719, Accuracy:0.99751\n",
      "save models to work/hand.inference.model\n",
      "Pass:10, Batch:0, Cost:0.01583, Accuracy:0.99219\n",
      "Pass:10, Batch:100, Cost:0.04358, Accuracy:0.98438\n",
      "Pass:10, Batch:200, Cost:0.02381, Accuracy:0.98438\n",
      "Pass:10, Batch:300, Cost:0.00053, Accuracy:1.00000\n",
      "Pass:10, Batch:400, Cost:0.00323, Accuracy:1.00000\n",
      "Pass:10, Batch:500, Cost:0.00327, Accuracy:1.00000\n",
      "Pass:10, Batch:600, Cost:0.01166, Accuracy:0.99219\n",
      "Pass:10, Batch:900, Cost:0.00115, Accuracy:1.00000\n",
      "Test:10, Cost:0.00587, Accuracy:0.99771\n",
      "save models to work/hand.inference.model\n",
      "Pass:11, Batch:0, Cost:0.02149, Accuracy:0.98438\n",
      "Pass:11, Batch:100, Cost:0.00060, Accuracy:1.00000\n",
      "Pass:11, Batch:200, Cost:0.01038, Accuracy:0.99219\n",
      "Pass:11, Batch:300, Cost:0.00328, Accuracy:1.00000\n",
      "Pass:11, Batch:400, Cost:0.00704, Accuracy:0.99219\n",
      "Pass:11, Batch:500, Cost:0.00008, Accuracy:1.00000\n",
      "Pass:11, Batch:600, Cost:0.00213, Accuracy:1.00000\n",
      "Pass:11, Batch:700, Cost:0.00006, Accuracy:1.00000\n",
      "Pass:11, Batch:800, Cost:0.00066, Accuracy:1.00000\n",
      "Pass:11, Batch:900, Cost:0.00184, Accuracy:1.00000\n",
      "Test:11, Cost:0.00481, Accuracy:0.99811\n",
      "save models to work/hand.inference.model\n",
      "Pass:12, Batch:0, Cost:0.00423, Accuracy:1.00000\n",
      "Pass:12, Batch:100, Cost:0.00190, Accuracy:1.00000\n",
      "Pass:12, Batch:200, Cost:0.00104, Accuracy:1.00000\n",
      "Pass:12, Batch:300, Cost:0.06860, Accuracy:0.98438\n",
      "Pass:12, Batch:400, Cost:0.02636, Accuracy:0.99219\n",
      "Pass:12, Batch:500, Cost:0.00123, Accuracy:1.00000\n",
      "Pass:12, Batch:600, Cost:0.00428, Accuracy:1.00000\n",
      "Pass:12, Batch:700, Cost:0.01963, Accuracy:0.99219\n",
      "Pass:12, Batch:800, Cost:0.00110, Accuracy:1.00000\n",
      "Pass:12, Batch:900, Cost:0.00036, Accuracy:1.00000\n",
      "Test:12, Cost:0.00659, Accuracy:0.99761\n",
      "save models to work/hand.inference.model\n",
      "Pass:13, Batch:0, Cost:0.00051, Accuracy:1.00000\n",
      "Pass:13, Batch:100, Cost:0.00004, Accuracy:1.00000\n",
      "Pass:13, Batch:200, Cost:0.00137, Accuracy:1.00000\n",
      "Pass:13, Batch:300, Cost:0.01102, Accuracy:0.99219\n",
      "Pass:13, Batch:400, Cost:0.01029, Accuracy:0.99219\n",
      "Pass:13, Batch:500, Cost:0.01397, Accuracy:0.99219\n",
      "Pass:13, Batch:600, Cost:0.00135, Accuracy:1.00000\n",
      "Pass:13, Batch:700, Cost:0.00325, Accuracy:1.00000\n",
      "Pass:13, Batch:800, Cost:0.00156, Accuracy:1.00000\n",
      "Pass:13, Batch:900, Cost:0.00277, Accuracy:1.00000\n",
      "Test:13, Cost:0.00394, Accuracy:0.99831\n",
      "save models to work/hand.inference.model\n",
      "Pass:14, Batch:0, Cost:0.00447, Accuracy:1.00000\n",
      "Pass:14, Batch:100, Cost:0.00125, Accuracy:1.00000\n",
      "Pass:14, Batch:200, Cost:0.00145, Accuracy:1.00000\n",
      "Pass:14, Batch:300, Cost:0.00002, Accuracy:1.00000\n",
      "Pass:14, Batch:400, Cost:0.00052, Accuracy:1.00000\n",
      "Pass:14, Batch:500, Cost:0.01301, Accuracy:0.99219\n",
      "Pass:14, Batch:600, Cost:0.05225, Accuracy:0.98438\n",
      "Pass:14, Batch:700, Cost:0.00008, Accuracy:1.00000\n",
      "Pass:14, Batch:800, Cost:0.00077, Accuracy:1.00000\n",
      "Pass:14, Batch:900, Cost:0.00140, Accuracy:1.00000\n",
      "Test:14, Cost:0.00377, Accuracy:0.99851\n",
      "save models to work/hand.inference.model\n",
      "Pass:15, Batch:0, Cost:0.00002, Accuracy:1.00000\n",
      "Pass:15, Batch:100, Cost:0.00734, Accuracy:0.99219\n",
      "Pass:15, Batch:200, Cost:0.00048, Accuracy:1.00000\n",
      "Pass:15, Batch:300, Cost:0.00010, Accuracy:1.00000\n",
      "Pass:15, Batch:400, Cost:0.00775, Accuracy:1.00000\n",
      "Pass:15, Batch:500, Cost:0.00017, Accuracy:1.00000\n",
      "Pass:15, Batch:600, Cost:0.00094, Accuracy:1.00000\n",
      "Pass:15, Batch:700, Cost:0.00299, Accuracy:1.00000\n",
      "Pass:15, Batch:800, Cost:0.00123, Accuracy:1.00000\n",
      "Pass:15, Batch:900, Cost:0.00003, Accuracy:1.00000\n",
      "Test:15, Cost:0.00405, Accuracy:0.99841\n",
      "save models to work/hand.inference.model\n",
      "Pass:16, Batch:0, Cost:0.00624, Accuracy:1.00000\n",
      "Pass:16, Batch:100, Cost:0.00007, Accuracy:1.00000\n",
      "Pass:16, Batch:200, Cost:0.00003, Accuracy:1.00000\n",
      "Pass:16, Batch:300, Cost:0.00128, Accuracy:1.00000\n",
      "Pass:16, Batch:400, Cost:0.00711, Accuracy:0.99219\n",
      "Pass:16, Batch:500, Cost:0.00301, Accuracy:1.00000\n",
      "Pass:16, Batch:600, Cost:0.00056, Accuracy:1.00000\n",
      "Pass:16, Batch:700, Cost:0.00044, Accuracy:1.00000\n",
      "Pass:16, Batch:800, Cost:0.00006, Accuracy:1.00000\n",
      "Pass:16, Batch:900, Cost:0.00016, Accuracy:1.00000\n",
      "Test:16, Cost:0.00378, Accuracy:0.99861\n",
      "save models to work/hand.inference.model\n",
      "Pass:17, Batch:0, Cost:0.00028, Accuracy:1.00000\n",
      "Pass:17, Batch:100, Cost:0.00003, Accuracy:1.00000\n",
      "Pass:17, Batch:200, Cost:0.00353, Accuracy:1.00000\n",
      "Pass:17, Batch:300, Cost:0.00131, Accuracy:1.00000\n",
      "Pass:17, Batch:400, Cost:0.00009, Accuracy:1.00000\n",
      "Pass:17, Batch:500, Cost:0.00450, Accuracy:1.00000\n",
      "Pass:17, Batch:600, Cost:0.00020, Accuracy:1.00000\n",
      "Pass:17, Batch:700, Cost:0.00031, Accuracy:1.00000\n",
      "Pass:17, Batch:800, Cost:0.00021, Accuracy:1.00000\n",
      "Pass:17, Batch:900, Cost:0.00002, Accuracy:1.00000\n",
      "Test:17, Cost:0.00490, Accuracy:0.99836\n",
      "save models to work/hand.inference.model\n",
      "Pass:18, Batch:0, Cost:0.00123, Accuracy:1.00000\n",
      "Pass:18, Batch:100, Cost:0.01103, Accuracy:0.99219\n",
      "Pass:18, Batch:200, Cost:0.00013, Accuracy:1.00000\n",
      "Pass:18, Batch:300, Cost:0.00005, Accuracy:1.00000\n",
      "Pass:18, Batch:400, Cost:0.00014, Accuracy:1.00000\n",
      "Pass:18, Batch:500, Cost:0.00000, Accuracy:1.00000\n",
      "Pass:18, Batch:600, Cost:0.00012, Accuracy:1.00000\n",
      "Pass:18, Batch:700, Cost:0.00011, Accuracy:1.00000\n",
      "Pass:18, Batch:800, Cost:0.03504, Accuracy:0.98438\n",
      "Pass:18, Batch:900, Cost:0.01743, Accuracy:0.99219\n",
      "Test:18, Cost:0.00317, Accuracy:0.99881\n",
      "save models to work/hand.inference.model\n",
      "Pass:19, Batch:0, Cost:0.00007, Accuracy:1.00000\n",
      "Pass:19, Batch:100, Cost:0.00226, Accuracy:1.00000\n",
      "Pass:19, Batch:200, Cost:0.00016, Accuracy:1.00000\n",
      "Pass:19, Batch:300, Cost:0.00006, Accuracy:1.00000\n",
      "Pass:19, Batch:400, Cost:0.00042, Accuracy:1.00000\n",
      "Pass:19, Batch:500, Cost:0.00128, Accuracy:1.00000\n",
      "Pass:19, Batch:600, Cost:0.00035, Accuracy:1.00000\n",
      "Pass:19, Batch:700, Cost:0.00160, Accuracy:1.00000\n",
      "Pass:19, Batch:800, Cost:0.00023, Accuracy:1.00000\n",
      "Pass:19, Batch:900, Cost:0.00003, Accuracy:1.00000\n",
      "Test:19, Cost:0.00250, Accuracy:0.99905\n",
      "save models to work/hand.inference.model\n"
     ]
    },
    {
     "data": {
      "image/png": "[encoded data removed]",
      "text/plain": [
       "<Figure size 432x288 with 1 Axes>"
      ]
     },
     "metadata": {},
     "output_type": "display_data"
    }
   ],
   "source": [
    "EPOCH_NUM = 20\n",
    "model_save_dir = R\"work/hand.inference.model\"\n",
    "for pass_id in range(EPOCH_NUM):\n",
    "    # 进行训练\n",
    "    for batch_id, data in enumerate(train_reader()):  # 遍历train_reader\n",
    "        train_cost, train_acc = exe.run(program=fluid.default_main_program(),  # 运行主程序\n",
    "                                        feed=feeder.feed(data),  # 给模型喂入数据\n",
    "                                        fetch_list=[avg_cost, acc])  # fetch 误差、准确率\n",
    "\n",
    "        all_train_iter = all_train_iter + BATCH_SIZE\n",
    "        all_train_iters.append(all_train_iter)\n",
    "        all_train_costs.append(train_cost[0])\n",
    "        all_train_accs.append(train_acc[0])\n",
    "\n",
    "        # 每100个batch打印一次信息  误差、准确率\n",
    "        if batch_id % 100 == 0:\n",
    "            print('Pass:%d, Batch:%d, Cost:%0.5f, Accuracy:%0.5f' %\n",
    "                  (pass_id, batch_id, train_cost[0], train_acc[0]))\n",
    "\n",
    "    # 进行测试\n",
    "    test_accs = []\n",
    "    test_costs = []\n",
    "    # 每训练一轮 进行一次测试\n",
    "    for batch_id, data in enumerate(test_reader()):  # 遍历test_reader\n",
    "        test_cost, test_acc = exe.run(program=fluid.default_main_program(),  # 执行训练程序\n",
    "                                      feed=feeder.feed(data),  # 喂入数据\n",
    "                                      fetch_list=[avg_cost, acc])  # fetch 误差、准确率\n",
    "        test_accs.append(test_acc[0])  # 每个batch的准确率\n",
    "        test_costs.append(test_cost[0])  # 每个batch的误差\n",
    "\n",
    "    # 求测试结果的平均值\n",
    "    test_cost = (sum(test_costs) / len(test_costs))  # 每轮的平均误差\n",
    "    test_acc = (sum(test_accs) / len(test_accs))  # 每轮的平均准确率\n",
    "    print('Test:%d, Cost:%0.5f, Accuracy:%0.5f' % (pass_id, test_cost, test_acc))\n",
    "\n",
    "    # 保存模型\n",
    "    # 如果保存路径不存在就创建\n",
    "    if not os.path.exists(model_save_dir):\n",
    "        os.makedirs(model_save_dir)\n",
    "    print('save models to %s' % (model_save_dir))\n",
    "    fluid.io.save_inference_model(model_save_dir,  # 保存推理model的路径\n",
    "                                  ['image'],  # 推理（inference）需要 feed 的数据\n",
    "                                  [predict],  # 保存推理（inference）结果的 Variables\n",
    "                                  exe)  # executor 保存 inference model\n",
    "draw_train_process(\"training\", all_train_iters, all_train_costs, all_train_accs, \"trainning cost\", \"trainning acc\")"
   ]
  },
  {
   "cell_type": "markdown",
   "metadata": {},
   "source": [
    "## 5 模型预测"
   ]
  },
  {
   "cell_type": "code",
   "execution_count": 51,
   "metadata": {},
   "outputs": [],
   "source": [
    "def load_image(file):\n",
    "    im = Image.open(file).convert('L')                        #将RGB转化为灰度图像，L代表灰度图像，像素值在0~255之间\n",
    "    im = im.resize((28, 28), Image.ANTIALIAS)                 #resize image with high-quality 图像大小为28*28\n",
    "    im = np.array(im).reshape(1, 1, 28, 28).astype(np.float32)#返回新形状的数组,把它变成一个 numpy 数组以匹配数据馈送格式。\n",
    "    # print(im)\n",
    "    im = im / 255.0 * 2.0 - 1.0                               #归一化到【-1~1】之间\n",
    "    return im"
   ]
  },
  {
   "cell_type": "code",
   "execution_count": 52,
   "metadata": {},
   "outputs": [
    {
     "data": {
      "image/png": "[encoded data removed]",
      "text/plain": [
       "<Figure size 432x288 with 1 Axes>"
      ]
     },
     "metadata": {},
     "output_type": "display_data"
    }
   ],
   "source": [
    "img_path=R'testdata/19939.png'\n",
    "img = Image.open(img_path)\n",
    "plt.imshow(img)   #根据数组绘制图像\n",
    "plt.show()        #显示图像"
   ]
  },
  {
   "cell_type": "code",
   "execution_count": 53,
   "metadata": {},
   "outputs": [],
   "source": [
    "infer_exe = fluid.Executor(place)\n",
    "inference_scope = fluid.core.Scope()"
   ]
  },
  {
   "cell_type": "code",
   "execution_count": 57,
   "metadata": {},
   "outputs": [
    {
     "name": "stdout",
     "output_type": "stream",
     "text": [
      "该图片的预测结果的label为: 0\n"
     ]
    }
   ],
   "source": [
    "# 加载数据并开始预测\n",
    "with fluid.scope_guard(inference_scope):\n",
    "    #获取训练好的模型\n",
    "    #从指定目录中加载 推理model(inference model)\n",
    "    [inference_program,                                            #推理Program\n",
    "     feed_target_names,                                            #是一个str列表，它包含需要在推理 Program 中提供数据的变量的名称。\n",
    "     fetch_targets] = fluid.io.load_inference_model(model_save_dir,#fetch_targets：是一个 Variable 列表，从中我们可以得到推断结果。model_save_dir：模型保存的路径\n",
    "                                                    infer_exe)     #infer_exe: 运行 inference model的 executor\n",
    "    infer_path=img_path\n",
    "    img = load_image(infer_path)\n",
    "\n",
    "    results = infer_exe.run(program=inference_program,               #运行推测程序\n",
    "                   feed={feed_target_names[0]: img},           #喂入要预测的img\n",
    "                   fetch_list=fetch_targets)                   #得到推测结果,\n",
    "    # 获取概率最大的label\n",
    "    lab = np.argsort(results)                                  #argsort函数返回的是result数组值从小到大的索引值\n",
    "    #print(lab)\n",
    "    print(\"该图片的预测结果的label为: %d\" % lab[0][0][-1])     #-1代表读取数组中倒数第一列"
   ]
  }
 ],
 "metadata": {
  "kernelspec": {
   "display_name": "Python 3",
   "language": "python",
   "name": "python3"
  },
  "language_info": {
   "codemirror_mode": {
    "name": "ipython",
    "version": 3
   },
   "file_extension": ".py",
   "mimetype": "text/x-python",
   "name": "python",
   "nbconvert_exporter": "python",
   "pygments_lexer": "ipython3",
   "version": "3.7.4"
  },
  "latex_envs": {
   "LaTeX_envs_menu_present": true,
   "autoclose": false,
   "autocomplete": true,
   "bibliofile": "biblio.bib",
   "cite_by": "apalike",
   "current_citInitial": 1,
   "eqLabelWithNumbers": true,
   "eqNumInitial": 1,
   "hotkeys": {
    "equation": "Ctrl-E",
    "itemize": "Ctrl-I"
   },
   "labels_anchors": false,
   "latex_user_defs": false,
   "report_style_numbering": false,
   "user_envs_cfg": false
  }
 },
 "nbformat": 4,
 "nbformat_minor": 1
}
